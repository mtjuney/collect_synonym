{
 "cells": [
  {
   "cell_type": "code",
   "execution_count": 1,
   "metadata": {
    "collapsed": true
   },
   "outputs": [],
   "source": [
    "from natto import MeCab"
   ]
  },
  {
   "cell_type": "code",
   "execution_count": 2,
   "metadata": {
    "collapsed": false
   },
   "outputs": [
    {
     "name": "stdout",
     "output_type": "stream",
     "text": [
      "<natto.mecab.MeCab model=<cdata 'mecab_model_t *' 0x104152dd0>, tagger=<cdata 'mecab_t *' 0x104152560>, lattice=<cdata 'mecab_lattice_t *' 0x10413a020>, libpath=\"/usr/local/Cellar/mecab/0.996/lib/libmecab.dylib\", options={}, dicts=[<natto.dictionary.DictionaryInfo dictionary=<cdata 'mecab_dictionary_info_t *' 0x10415dd60>, filepath=\"/usr/local/lib/mecab/dic/ipadic/sys.dic\", charset=utf8, type=0>], version=0.996>\n",
      "さんま\t名詞,一般,*,*,*,*,さんま,サンマ,サンマ\n",
      "の\t助詞,連体化,*,*,*,*,の,ノ,ノ\n",
      "まんま\t名詞,非自立,副詞可能,*,*,*,まんま,マンマ,マンマ\n",
      "EOS\n"
     ]
    }
   ],
   "source": [
    "with MeCab() as nm:\n",
    "    print(nm)\n",
    "    text = \"さんまのまんま\"\n",
    "    print(nm.parse(text))"
   ]
  },
  {
   "cell_type": "code",
   "execution_count": 3,
   "metadata": {
    "collapsed": false
   },
   "outputs": [
    {
     "name": "stdout",
     "output_type": "stream",
     "text": [
      "<natto.mecab.MeCab model=<cdata 'mecab_model_t *' 0x1041599a0>, tagger=<cdata 'mecab_t *' 0x104159a90>, lattice=<cdata 'mecab_lattice_t *' 0x104159af0>, libpath=\"/usr/local/Cellar/mecab/0.996/lib/libmecab.dylib\", options={'dicdir': '/usr/local/lib/mecab/dic/mecab-ipadic-neologd'}, dicts=[<natto.dictionary.DictionaryInfo dictionary=<cdata 'mecab_dictionary_info_t *' 0x1044195c0>, filepath=\"/usr/local/lib/mecab/dic/mecab-ipadic-neologd/sys.dic\", charset=UTF8, type=0>], version=0.996>\n",
      "さんまのまんま\t名詞,固有名詞,一般,*,*,*,さんまのまんま,サンマノマンマ,サンマノマンマ\n",
      "EOS\n"
     ]
    }
   ],
   "source": [
    "params={'dicdir': '/usr/local/lib/mecab/dic/mecab-ipadic-neologd'}\n",
    "# params = {}\n",
    "with MeCab(options=params) as nm:\n",
    "    print(nm)\n",
    "    text = 'さんまのまんま'\n",
    "    print(nm.parse(text))"
   ]
  },
  {
   "cell_type": "code",
   "execution_count": 4,
   "metadata": {
    "collapsed": false
   },
   "outputs": [
    {
     "name": "stdout",
     "output_type": "stream",
     "text": [
      "さんまのまんま\n",
      "は\n",
      "面白い\n",
      "と\n",
      "思う\n",
      "た\n"
     ]
    }
   ],
   "source": [
    "params={'dicdir': '/usr/local/lib/mecab/dic/mecab-ipadic-neologd',\n",
    "       'node_format': '%f[6]'}\n",
    "# params = {}\n",
    "with MeCab(options=params) as nm:\n",
    "    text = 'さんまのまんまは面白いと思った'\n",
    "    nodes = nm.parse(text, as_nodes=True)\n",
    "    for n in nodes:\n",
    "        if not n.is_eos():\n",
    "            print(n.feature)"
   ]
  },
  {
   "cell_type": "code",
   "execution_count": 2,
   "metadata": {
    "collapsed": true
   },
   "outputs": [],
   "source": [
    "import re"
   ]
  },
  {
   "cell_type": "code",
   "execution_count": 7,
   "metadata": {
    "collapsed": false,
    "scrolled": true
   },
   "outputs": [
    {
     "name": "stdout",
     "output_type": "stream",
     "text": [
      "words length : 2534569\n",
      "words : ['!!(⊃ Д)⊃≡ﾟ ﾟ', '!?(･_･;?', '!DELAdap', '!Wagero!', '!deladap', '!iT', '!it', '!wagero!', '!щ(゜▽゜щ)', '#9×和魂人']\n",
      "ウルガモス\n"
     ]
    }
   ],
   "source": [
    "import csv\n",
    "import sys\n",
    "\n",
    "with open('middle_data/neologd_words.csv', 'r', newline='') as f:\n",
    "    reader = csv.reader(f)\n",
    "\n",
    "    for row in reader:\n",
    "        words = row\n",
    "        break\n",
    "\n",
    "print('words length : {}'.format(len(words)))\n",
    "print('words : {}'.format(words[:10]))\n",
    "\n",
    "for word in words:\n",
    "    if re.match(r'ウルガモス', word):\n",
    "        print(word)"
   ]
  },
  {
   "cell_type": "code",
   "execution_count": null,
   "metadata": {
    "collapsed": true
   },
   "outputs": [],
   "source": []
  }
 ],
 "metadata": {
  "kernelspec": {
   "display_name": "Python 3",
   "language": "python",
   "name": "python3"
  },
  "language_info": {
   "codemirror_mode": {
    "name": "ipython",
    "version": 3
   },
   "file_extension": ".py",
   "mimetype": "text/x-python",
   "name": "python",
   "nbconvert_exporter": "python",
   "pygments_lexer": "ipython3",
   "version": "3.5.1"
  }
 },
 "nbformat": 4,
 "nbformat_minor": 0
}
