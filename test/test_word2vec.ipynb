{
 "cells": [
  {
   "cell_type": "code",
   "execution_count": 1,
   "metadata": {
    "collapsed": false
   },
   "outputs": [
    {
     "name": "stderr",
     "output_type": "stream",
     "text": [
      "Using gpu device 0: Tesla K40m (CNMeM is disabled, cuDNN 5004)\n"
     ]
    }
   ],
   "source": [
    "from gensim.models import word2vec\n",
    "\n",
    "model = word2vec.Word2Vec.load('middle_data/word2vec.model')"
   ]
  },
  {
   "cell_type": "code",
   "execution_count": 2,
   "metadata": {
    "collapsed": true
   },
   "outputs": [],
   "source": [
    "def s(posi, nega=[], n=10):\n",
    "    cnt = 1\n",
    "    \n",
    "    result = model.most_similar(positive = posi, negative = nega, topn = n)\n",
    "    for r in result:\n",
    "        print('{} {} {}'.format(cnt, r[0], r[1]))\n",
    "        cnt += 1"
   ]
  },
  {
   "cell_type": "code",
   "execution_count": 3,
   "metadata": {
    "collapsed": true
   },
   "outputs": [],
   "source": [
    "import csv\n",
    "\n",
    "with open('middle_data/neologd_words.csv', 'r', newline='') as f:\n",
    "    reader = csv.reader(f)\n",
    "\n",
    "    for row in reader:\n",
    "        neologd_vocab = row\n",
    "        break"
   ]
  },
  {
   "cell_type": "code",
   "execution_count": 28,
   "metadata": {
    "collapsed": false
   },
   "outputs": [
    {
     "name": "stdout",
     "output_type": "stream",
     "text": [
      "国 0.7350776791572571\n",
      "<class 'float'>\n",
      "中国 0.7213841676712036\n",
      "<class 'float'>\n",
      "アメリカ 0.7176335453987122\n",
      "<class 'float'>\n",
      "海外 0.6872056722640991\n",
      "<class 'float'>\n",
      "戦争 0.6854017972946167\n",
      "<class 'float'>\n"
     ]
    }
   ],
   "source": [
    "try:\n",
    "    result = model.most_similar(positive = [\"日本\"], negative = [], topn = 5)\n",
    "except KeyError as e:\n",
    "    print('vocabに含まれません')\n",
    "else:\n",
    "    for r in result:\n",
    "        print(r[0], r[1])\n",
    "        print(type(r[1]))"
   ]
  },
  {
   "cell_type": "code",
   "execution_count": 29,
   "metadata": {
    "collapsed": true
   },
   "outputs": [],
   "source": [
    "vocab_set = frozenset(neologd_vocab)"
   ]
  },
  {
   "cell_type": "code",
   "execution_count": 30,
   "metadata": {
    "collapsed": false
   },
   "outputs": [
    {
     "name": "stdout",
     "output_type": "stream",
     "text": [
      "2534569\n",
      "2370223\n"
     ]
    }
   ],
   "source": [
    "print(len(neologd_vocab))\n",
    "print(len(vocab_set))"
   ]
  },
  {
   "cell_type": "code",
   "execution_count": null,
   "metadata": {
    "collapsed": true
   },
   "outputs": [],
   "source": []
  }
 ],
 "metadata": {
  "kernelspec": {
   "display_name": "Python 3",
   "language": "python",
   "name": "python3"
  },
  "language_info": {
   "codemirror_mode": {
    "name": "ipython",
    "version": 3
   },
   "file_extension": ".py",
   "mimetype": "text/x-python",
   "name": "python",
   "nbconvert_exporter": "python",
   "pygments_lexer": "ipython3",
   "version": "3.5.1"
  }
 },
 "nbformat": 4,
 "nbformat_minor": 0
}
