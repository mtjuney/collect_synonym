{
 "cells": [
  {
   "cell_type": "code",
   "execution_count": 1,
   "metadata": {
    "collapsed": false
   },
   "outputs": [
    {
     "name": "stderr",
     "output_type": "stream",
     "text": [
      "Using gpu device 0: Tesla K40m (CNMeM is disabled, cuDNN 5004)\n"
     ]
    }
   ],
   "source": [
    "from gensim.models import word2vec\n",
    "\n",
    "model = word2vec.Word2Vec.load('../middle_data/word2vec_all.model')"
   ]
  },
  {
   "cell_type": "code",
   "execution_count": 29,
   "metadata": {
    "collapsed": false
   },
   "outputs": [
    {
     "name": "stdout",
     "output_type": "stream",
     "text": [
      "花婿 0.7036213874816895\n",
      "王様 0.625766396522522\n",
      "サンタクロース 0.6028538942337036\n",
      "老婆 0.6014890670776367\n",
      "召使い 0.5909750461578369\n",
      "新郎 0.5754671692848206\n",
      "お手伝いさん 0.5672856569290161\n",
      "召使 0.5641154050827026\n",
      "王女 0.5629804134368896\n",
      "貴婦人 0.556344211101532\n"
     ]
    }
   ],
   "source": [
    "try:\n",
    "    result = model.most_similar(positive = [\"花嫁\", \"男\"], negative = [\"女\"], topn = 10)\n",
    "except KeyError as e:\n",
    "    print('vocabに含まれません')\n",
    "else:\n",
    "    for r in result:\n",
    "        print(r[0], r[1])"
   ]
  },
  {
   "cell_type": "code",
   "execution_count": 29,
   "metadata": {
    "collapsed": true
   },
   "outputs": [],
   "source": [
    "vocab_set = frozenset(neologd_vocab)"
   ]
  },
  {
   "cell_type": "code",
   "execution_count": 30,
   "metadata": {
    "collapsed": false
   },
   "outputs": [
    {
     "name": "stdout",
     "output_type": "stream",
     "text": [
      "2534569\n",
      "2370223\n"
     ]
    }
   ],
   "source": [
    "print(len(neologd_vocab))\n",
    "print(len(vocab_set))"
   ]
  },
  {
   "cell_type": "code",
   "execution_count": null,
   "metadata": {
    "collapsed": true
   },
   "outputs": [],
   "source": []
  }
 ],
 "metadata": {
  "kernelspec": {
   "display_name": "Python 3",
   "language": "python",
   "name": "python3"
  },
  "language_info": {
   "codemirror_mode": {
    "name": "ipython",
    "version": 3
   },
   "file_extension": ".py",
   "mimetype": "text/x-python",
   "name": "python",
   "nbconvert_exporter": "python",
   "pygments_lexer": "ipython3",
   "version": "3.5.1"
  }
 },
 "nbformat": 4,
 "nbformat_minor": 0
}
